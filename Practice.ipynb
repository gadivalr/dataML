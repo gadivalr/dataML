{
 "cells": [
  {
   "cell_type": "code",
   "execution_count": 8,
   "id": "c491f60f",
   "metadata": {},
   "outputs": [
    {
     "name": "stdout",
     "output_type": "stream",
     "text": [
      "0\n",
      "729\n",
      "2\n"
     ]
    }
   ],
   "source": [
    "CheckingAccount = 500\n",
    "SavingsAccount = 1000\n",
    "# add 100 to our savings (Yeah!)\n",
    "savingsAccount = savingsAccount + 100\n",
    "\n",
    "# remove 50 from our checkingaccount (Sniff)\n",
    "checkingAccount = checkingAccount - 50\n",
    "\n",
    "# calculate the number of days to save to reach 5000\n",
    "numberDaysSave = (5000 - checkingAccount) / 500\n",
    "\n",
    "# update our checkingaccount (again) after the daily gains/losses\n",
    "checkingAccount = checkingAccount + (30 - 10) * 7\n",
    "\n",
    "print(SavingsAccount % 500) # -> 100\n",
    "# 1100 = 500 * 2 + 100, so 1100 % 500 = remainder = 100\n",
    "\n",
    "print(9 ** 3) # -> 729, 9*9*9 = 729\n",
    "\n",
    "print(SavingsAccount // 500) # -> 2\n",
    "# 1100 = 500 * 2 + 100, so 1100 // 500 = integer division result = 2*"
   ]
  },
  {
   "cell_type": "code",
   "execution_count": 2,
   "id": "af4a072b",
   "metadata": {},
   "outputs": [
    {
     "data": {
      "text/plain": [
       "'Hello world'"
      ]
     },
     "execution_count": 2,
     "metadata": {},
     "output_type": "execute_result"
    }
   ],
   "source": [
    "a=\"HELLO WORLD\"\n",
    "a.capitalize()"
   ]
  },
  {
   "cell_type": "code",
   "execution_count": 7,
   "id": "72bd6d36",
   "metadata": {},
   "outputs": [
    {
     "name": "stdout",
     "output_type": "stream",
     "text": [
      "1 0 16 1\n"
     ]
    }
   ],
   "source": [
    "a=4\n",
    "def poly(a,b,c,x):\n",
    "      return a*x**2 +b*x +c\n",
    "b=a\n",
    "b*=a\n",
    "c=1\n",
    "resut=poly(a,b,c,0)\n",
    "a+=3\n",
    "a=0\n",
    "print(resut,a,b,c)"
   ]
  },
  {
   "cell_type": "code",
   "execution_count": 12,
   "id": "7c76eb60",
   "metadata": {},
   "outputs": [
    {
     "name": "stdout",
     "output_type": "stream",
     "text": [
      "2\n"
     ]
    }
   ],
   "source": [
    "firstname=\"Levi\"\n",
    "print(int(10/5))"
   ]
  },
  {
   "cell_type": "code",
   "execution_count": 13,
   "id": "9fda5048",
   "metadata": {},
   "outputs": [
    {
     "name": "stdout",
     "output_type": "stream",
     "text": [
      "I've been to Sydney 5 times \n"
     ]
    }
   ],
   "source": [
    "city = \"Sydney\"\n",
    "numberTrips = 5\n",
    "history = \"I've been to \" + city + \" \" + str(numberTrips) + \" times \"\n",
    "print(history) # => \"I've been to Sydney 5 times\""
   ]
  },
  {
   "cell_type": "code",
   "execution_count": 25,
   "id": "baf4b914",
   "metadata": {},
   "outputs": [
    {
     "name": "stdout",
     "output_type": "stream",
     "text": [
      "The perimeter of my first triangle is 10\n"
     ]
    }
   ],
   "source": [
    "def printperimeter(a,b,c):\n",
    "    perimeter=a+b+c\n",
    "    return perimeter\n",
    "a=printperimeter(4,3,3)\n",
    "print(\"The perimeter of my first triangle is\",a)"
   ]
  },
  {
   "cell_type": "code",
   "execution_count": 26,
   "id": "dbac1128",
   "metadata": {
    "scrolled": true
   },
   "outputs": [
    {
     "name": "stdout",
     "output_type": "stream",
     "text": [
      "Help on built-in function pow in module builtins:\n",
      "\n",
      "pow(base, exp, mod=None)\n",
      "    Equivalent to base**exp with 2 arguments or base**exp % mod with 3 arguments\n",
      "    \n",
      "    Some types, such as ints, are able to use a more efficient algorithm when\n",
      "    invoked using the three argument form.\n",
      "\n"
     ]
    }
   ],
   "source": [
    "help(pow)"
   ]
  },
  {
   "cell_type": "markdown",
   "id": "4a9ccaee",
   "metadata": {},
   "source": [
    "#Listas"
   ]
  },
  {
   "cell_type": "code",
   "execution_count": 70,
   "id": "78c84501",
   "metadata": {},
   "outputs": [
    {
     "name": "stdout",
     "output_type": "stream",
     "text": [
      "['Mariana', 'Alberto Mendoza', 'Katharine Tyler', 'Isaac\\xa0Steele', 'Levi Sojos', 1, 3, 4, 5] 5\n",
      "['Alberto Mendoza', 4]\n"
     ]
    }
   ],
   "source": [
    "import random as rd\n",
    "customerName = ['Marion Weaver', 'Alberto Mendoza', 'Katharine Tyler', 'Isaac Steele']\n",
    "customerName.append('Levi Sojos')\n",
    "customerName.remove('Marion Weaver')\n",
    "customerName.insert(0,'Mariana')\n",
    "customerName.extend([1,3,4,5])\n",
    "print(customerName, customerName[-1])\n",
    "len(customerName)\n",
    "print(rd.choices(customerName, k=2))"
   ]
  },
  {
   "cell_type": "code",
   "execution_count": 73,
   "id": "d92b0839",
   "metadata": {},
   "outputs": [
    {
     "name": "stdout",
     "output_type": "stream",
     "text": [
      "0.10116909774511385\n"
     ]
    }
   ],
   "source": [
    "from numpy import random as rn\n",
    "x=rn.random()\n",
    "print(x)\n"
   ]
  },
  {
   "cell_type": "markdown",
   "id": "b825163a",
   "metadata": {},
   "source": [
    "Dicionario"
   ]
  },
  {
   "cell_type": "code",
   "execution_count": 48,
   "id": "22576f23",
   "metadata": {
    "scrolled": true
   },
   "outputs": [
    {
     "name": "stdout",
     "output_type": "stream",
     "text": [
      "{'Marion Weaver': 5000, 'Alberto Mendoza': 150, 'Katharine Tyler': 300, 'Isaac Steele': 1800.74}\n"
     ]
    }
   ],
   "source": [
    "accounts = {'Marion Weaver': 10000, 'Alberto Mendoza': 150, 'Katharine Tyler': 300, 'Isaac Steele': 1800.74}\n",
    "accounts['Marion Weaver']=5000\n",
    "print(accounts)"
   ]
  },
  {
   "cell_type": "code",
   "execution_count": 49,
   "id": "c0bfc021",
   "metadata": {},
   "outputs": [
    {
     "ename": "IndexError",
     "evalue": "list assignment index out of range",
     "output_type": "error",
     "traceback": [
      "\u001b[1;31m---------------------------------------------------------------------------\u001b[0m",
      "\u001b[1;31mIndexError\u001b[0m                                Traceback (most recent call last)",
      "\u001b[1;32m~\\AppData\\Local\\Temp\\ipykernel_536\\4215748680.py\u001b[0m in \u001b[0;36m<module>\u001b[1;34m\u001b[0m\n\u001b[0;32m      1\u001b[0m \u001b[0mfrequency\u001b[0m \u001b[1;33m=\u001b[0m \u001b[1;33m[\u001b[0m\u001b[1;33m]\u001b[0m\u001b[1;33m\u001b[0m\u001b[1;33m\u001b[0m\u001b[0m\n\u001b[1;32m----> 2\u001b[1;33m \u001b[0mfrequency\u001b[0m\u001b[1;33m[\u001b[0m\u001b[1;36m0\u001b[0m\u001b[1;33m]\u001b[0m \u001b[1;33m=\u001b[0m \u001b[1;34m'Monday'\u001b[0m\u001b[1;33m\u001b[0m\u001b[1;33m\u001b[0m\u001b[0m\n\u001b[0m\u001b[0;32m      3\u001b[0m \u001b[0mfrequency\u001b[0m\u001b[1;33m[\u001b[0m\u001b[1;36m1\u001b[0m\u001b[1;33m]\u001b[0m \u001b[1;33m=\u001b[0m \u001b[1;34m'friday'\u001b[0m\u001b[1;33m\u001b[0m\u001b[1;33m\u001b[0m\u001b[0m\n",
      "\u001b[1;31mIndexError\u001b[0m: list assignment index out of range"
     ]
    }
   ],
   "source": [
    "frequency = []\n",
    "frequency[0] = 'Monday'\n",
    "frequency[1] = 'friday'"
   ]
  },
  {
   "cell_type": "markdown",
   "id": "0b56266d",
   "metadata": {},
   "source": [
    "# Tuplas"
   ]
  },
  {
   "cell_type": "code",
   "execution_count": 24,
   "id": "06fb11c3",
   "metadata": {},
   "outputs": [
    {
     "name": "stdout",
     "output_type": "stream",
     "text": [
      "1\n",
      "apple\n"
     ]
    }
   ],
   "source": [
    "my_tuple = (1, 2, 3, 'a', 'b')\n",
    "a, b = (1, 'apple')\n",
    "print(a) # -> 1\n",
    "print(b) # -> 'apple'"
   ]
  },
  {
   "cell_type": "code",
   "execution_count": 29,
   "id": "bbd43538",
   "metadata": {},
   "outputs": [
    {
     "name": "stdout",
     "output_type": "stream",
     "text": [
      "What is your name?: \n",
      "Hello World\n"
     ]
    }
   ],
   "source": [
    "Name=input('What is your name?: ')\n",
    "if len(Name)!=0:\n",
    "    print(f'Hello {Name}')\n",
    "else:\n",
    "    print(\"Hello World\")"
   ]
  },
  {
   "cell_type": "code",
   "execution_count": 32,
   "id": "5c8d8d16",
   "metadata": {},
   "outputs": [
    {
     "name": "stdout",
     "output_type": "stream",
     "text": [
      "le\n",
      "2\n",
      "4\n",
      "sdasd\n"
     ]
    }
   ],
   "source": [
    "myList=['le',2,4,'sdasd']\n",
    "for i in myList:\n",
    "    print(i)"
   ]
  },
  {
   "cell_type": "code",
   "execution_count": 34,
   "id": "4b25546f",
   "metadata": {},
   "outputs": [
    {
     "name": "stdout",
     "output_type": "stream",
     "text": [
      "I\n",
      "t\n",
      "e\n",
      "m\n",
      "s\n"
     ]
    }
   ],
   "source": [
    "myString = \"Items\"\n",
    "\n",
    "for i in myString:\n",
    "    print(i)"
   ]
  },
  {
   "cell_type": "code",
   "execution_count": 35,
   "id": "6a2d0188",
   "metadata": {},
   "outputs": [
    {
     "name": "stdout",
     "output_type": "stream",
     "text": [
      "0\n",
      "1\n",
      "2\n",
      "3\n",
      "4\n",
      "0\n",
      "1\n",
      "2\n",
      "3\n",
      "4\n",
      "0\n",
      "1\n",
      "2\n",
      "3\n",
      "4\n",
      "0\n",
      "2\n",
      "4\n"
     ]
    }
   ],
   "source": [
    "for i in range(0, 5, 1):\n",
    "    print(i) # -> print from 0 to 4 by steps of 1 (end - 1)\n",
    "\n",
    "for i in range(0, 5):\n",
    "    print(i) # -> prints from 0 to 4 also (default step is 1)\n",
    "\n",
    "for i in range(5):\n",
    "    print(i) # -> prints from 0 to 4 also (default start is 0)\n",
    "\n",
    "for i in range(0, 5, 2):\n",
    "    print(i) # -> print 0, 2 then 4"
   ]
  },
  {
   "cell_type": "code",
   "execution_count": 36,
   "id": "35098a6e",
   "metadata": {
    "scrolled": true
   },
   "outputs": [
    {
     "name": "stdout",
     "output_type": "stream",
     "text": [
      "I planted 1 trees\n",
      "I planted 2 trees\n",
      "I planted 3 trees\n",
      "I planted 4 trees\n",
      "I planted 5 trees\n",
      "I planted 6 trees\n",
      "I planted 7 trees\n",
      "I planted 8 trees\n",
      "I planted 9 trees\n",
      "I planted 10 trees\n",
      "I have a nice forest!\n"
     ]
    }
   ],
   "source": [
    "numberTrees = 0\n",
    "\n",
    "while numberTrees < 10:\n",
    "    numberTrees += 1\n",
    "    print(\"I planted\", numberTrees, \"trees\")\n",
    "\n",
    "print(\"I have a nice forest!\")"
   ]
  },
  {
   "cell_type": "code",
   "execution_count": 38,
   "id": "0d19ec77",
   "metadata": {
    "scrolled": true
   },
   "outputs": [
    {
     "name": "stdout",
     "output_type": "stream",
     "text": [
      "0\n",
      "i != 2 & i != 5\n",
      "1\n",
      "i != 2 & i != 5\n",
      "2\n",
      "Special case\n",
      "3\n",
      "i != 2 & i != 5\n",
      "4\n",
      "i != 2 & i != 5\n",
      "5\n",
      "Special case\n",
      "6\n",
      "i != 2 & i != 5\n",
      "7\n",
      "i != 2 & i != 5\n",
      "8\n",
      "i != 2 & i != 5\n",
      "9\n",
      "i != 2 & i != 5\n"
     ]
    }
   ],
   "source": [
    "for i in range(10):\n",
    "    # statements executed at each iteration\n",
    "    print(i)\n",
    "    if (i == 2) or (i == 5):\n",
    "        print(\"Special case\")\n",
    "        continue\n",
    "    # statements not executed if i == 2 or 5\n",
    "    print(\"i != 2 & i != 5\")"
   ]
  },
  {
   "cell_type": "code",
   "execution_count": 53,
   "id": "1aa82b3f",
   "metadata": {},
   "outputs": [
    {
     "ename": "IndentationError",
     "evalue": "unindent does not match any outer indentation level (<tokenize>, line 4)",
     "output_type": "error",
     "traceback": [
      "\u001b[1;36m  File \u001b[1;32m\"<tokenize>\"\u001b[1;36m, line \u001b[1;32m4\u001b[0m\n\u001b[1;33m    if 'a' in 'qux':\u001b[0m\n\u001b[1;37m    ^\u001b[0m\n\u001b[1;31mIndentationError\u001b[0m\u001b[1;31m:\u001b[0m unindent does not match any outer indentation level\n"
     ]
    }
   ],
   "source": [
    "if 'bar' in {'foo': 1, 'bar': 2, 'baz': 3}:\n",
    "       print(1)\n",
    "       \n",
    "    if 'a' in 'qux':\n",
    "          print(3)\n",
    "print(4)"
   ]
  },
  {
   "cell_type": "code",
   "execution_count": 54,
   "id": "d68fabcf",
   "metadata": {},
   "outputs": [
    {
     "name": "stdout",
     "output_type": "stream",
     "text": [
      "yeah!\n"
     ]
    }
   ],
   "source": [
    "d = {'a': 0, 'b': 1, 'c': 0}\n",
    "\n",
    "if d['a'] > 0:\n",
    "   print('yeah!')\n",
    "elif d['b'] > 0:\n",
    "   print('yeah!')\n",
    "elif d['c'] > 0:\n",
    "   print('ok')\n",
    "elif d['d'] > 0:\n",
    "   print('ok')\n",
    "else:\n",
    "   print('not ok')"
   ]
  },
  {
   "cell_type": "code",
   "execution_count": 57,
   "id": "34c5b91f",
   "metadata": {},
   "outputs": [],
   "source": [
    "'''\n",
    "Module geometry.py\n",
    "'''\n",
    "# variables\n",
    "pi = 3.14159265359\n",
    "phi = 1.6180\n",
    "\n",
    "# function that calculates the area\n",
    "def area(obj):\n",
    "    if type(obj) == square:\n",
    "        return obj.a**2\n",
    "\n",
    "# definitions of some classes\n",
    "class square(object):\n",
    "    def __init__(self,a):\n",
    "        self.a = a\n",
    "\n",
    "class triangle(object):\n",
    "    def __init__(self,a,b,c):\n",
    "        self.a = a\n",
    "        self.b = b\n",
    "        self.c = c"
   ]
  },
  {
   "cell_type": "code",
   "execution_count": 66,
   "id": "eb5c1c89",
   "metadata": {},
   "outputs": [
    {
     "name": "stdout",
     "output_type": "stream",
     "text": [
      "0.4889392491848509\n",
      "0.10896994166888763\n",
      "0.511648120613766\n",
      "1\n",
      "3\n",
      "3\n",
      "3.3291243834253406\n",
      "2.8173908773350016\n",
      "2.775041870621101\n",
      "0.24261485955597753\n",
      "0.49334451778739935\n",
      "1.2363852315090402\n",
      "1.5155152481918657\n"
     ]
    }
   ],
   "source": [
    "import random as rd\n",
    "for i in range(3):\n",
    "    print(rd.random())\n",
    "for i in range(3):\n",
    "    print(rd.randint(1,5))\n",
    "for i in range(3):\n",
    "    print(rd.uniform(1,5))\n",
    "for i in range(4):\n",
    "    print(rd.gauss(0,1))"
   ]
  }
 ],
 "metadata": {
  "kernelspec": {
   "display_name": "Python 3 (ipykernel)",
   "language": "python",
   "name": "python3"
  },
  "language_info": {
   "codemirror_mode": {
    "name": "ipython",
    "version": 3
   },
   "file_extension": ".py",
   "mimetype": "text/x-python",
   "name": "python",
   "nbconvert_exporter": "python",
   "pygments_lexer": "ipython3",
   "version": "3.9.13"
  }
 },
 "nbformat": 4,
 "nbformat_minor": 5
}
